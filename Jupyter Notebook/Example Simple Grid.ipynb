{
 "cells": [
  {
   "cell_type": "code",
   "execution_count": 2,
   "metadata": {},
   "outputs": [],
   "source": [
    "# make the code as Python 3 compatible as possible\n",
    "from __future__ import print_function, division\n",
    "import pypsa\n",
    "import numpy as np"
   ]
  },
  {
   "cell_type": "code",
   "execution_count": 3,
   "metadata": {},
   "outputs": [
    {
     "ename": "AssertionError",
     "evalue": "Directory data\\minimal_example does not exist.",
     "output_type": "error",
     "traceback": [
      "\u001b[1;31m---------------------------------------------------------------------------\u001b[0m",
      "\u001b[1;31mAssertionError\u001b[0m                            Traceback (most recent call last)",
      "\u001b[1;32m<ipython-input-3-e062f25a5d84>\u001b[0m in \u001b[0;36m<module>\u001b[1;34m\u001b[0m\n\u001b[0;32m      3\u001b[0m \u001b[1;33m\u001b[0m\u001b[0m\n\u001b[0;32m      4\u001b[0m \u001b[1;31m#add buses\u001b[0m\u001b[1;33m\u001b[0m\u001b[1;33m\u001b[0m\u001b[1;33m\u001b[0m\u001b[0m\n\u001b[1;32m----> 5\u001b[1;33m \u001b[0mnetwork\u001b[0m\u001b[1;33m.\u001b[0m\u001b[0mimport_from_csv_folder\u001b[0m\u001b[1;33m(\u001b[0m\u001b[0mcsv_folder_name\u001b[0m \u001b[1;33m=\u001b[0m \u001b[0mcsv_folder\u001b[0m\u001b[1;33m)\u001b[0m\u001b[1;33m\u001b[0m\u001b[1;33m\u001b[0m\u001b[0m\n\u001b[0m\u001b[0;32m      6\u001b[0m \u001b[1;33m\u001b[0m\u001b[0m\n\u001b[0;32m      7\u001b[0m \u001b[1;33m\u001b[0m\u001b[0m\n",
      "\u001b[1;32m~\\.conda\\envs\\pypsa-eur\\lib\\site-packages\\pypsa\\io.py\u001b[0m in \u001b[0;36mimport_from_csv_folder\u001b[1;34m(network, csv_folder_name, encoding, skip_time)\u001b[0m\n\u001b[0;32m    391\u001b[0m \u001b[1;33m\u001b[0m\u001b[0m\n\u001b[0;32m    392\u001b[0m     \u001b[0mbasename\u001b[0m \u001b[1;33m=\u001b[0m \u001b[0mos\u001b[0m\u001b[1;33m.\u001b[0m\u001b[0mpath\u001b[0m\u001b[1;33m.\u001b[0m\u001b[0mbasename\u001b[0m\u001b[1;33m(\u001b[0m\u001b[0mcsv_folder_name\u001b[0m\u001b[1;33m)\u001b[0m\u001b[1;33m\u001b[0m\u001b[1;33m\u001b[0m\u001b[0m\n\u001b[1;32m--> 393\u001b[1;33m     \u001b[1;32mwith\u001b[0m \u001b[0mImporterCSV\u001b[0m\u001b[1;33m(\u001b[0m\u001b[0mcsv_folder_name\u001b[0m\u001b[1;33m,\u001b[0m \u001b[0mencoding\u001b[0m\u001b[1;33m=\u001b[0m\u001b[0mencoding\u001b[0m\u001b[1;33m)\u001b[0m \u001b[1;32mas\u001b[0m \u001b[0mimporter\u001b[0m\u001b[1;33m:\u001b[0m\u001b[1;33m\u001b[0m\u001b[1;33m\u001b[0m\u001b[0m\n\u001b[0m\u001b[0;32m    394\u001b[0m         \u001b[0m_import_from_importer\u001b[0m\u001b[1;33m(\u001b[0m\u001b[0mnetwork\u001b[0m\u001b[1;33m,\u001b[0m \u001b[0mimporter\u001b[0m\u001b[1;33m,\u001b[0m \u001b[0mbasename\u001b[0m\u001b[1;33m=\u001b[0m\u001b[0mbasename\u001b[0m\u001b[1;33m,\u001b[0m \u001b[0mskip_time\u001b[0m\u001b[1;33m=\u001b[0m\u001b[0mskip_time\u001b[0m\u001b[1;33m)\u001b[0m\u001b[1;33m\u001b[0m\u001b[1;33m\u001b[0m\u001b[0m\n\u001b[0;32m    395\u001b[0m \u001b[1;33m\u001b[0m\u001b[0m\n",
      "\u001b[1;32m~\\.conda\\envs\\pypsa-eur\\lib\\site-packages\\pypsa\\io.py\u001b[0m in \u001b[0;36m__init__\u001b[1;34m(self, csv_folder_name, encoding)\u001b[0m\n\u001b[0;32m     72\u001b[0m         \u001b[0mself\u001b[0m\u001b[1;33m.\u001b[0m\u001b[0mencoding\u001b[0m \u001b[1;33m=\u001b[0m \u001b[0mencoding\u001b[0m\u001b[1;33m\u001b[0m\u001b[1;33m\u001b[0m\u001b[0m\n\u001b[0;32m     73\u001b[0m \u001b[1;33m\u001b[0m\u001b[0m\n\u001b[1;32m---> 74\u001b[1;33m         \u001b[1;32massert\u001b[0m \u001b[0mos\u001b[0m\u001b[1;33m.\u001b[0m\u001b[0mpath\u001b[0m\u001b[1;33m.\u001b[0m\u001b[0misdir\u001b[0m\u001b[1;33m(\u001b[0m\u001b[0mcsv_folder_name\u001b[0m\u001b[1;33m)\u001b[0m\u001b[1;33m,\u001b[0m \u001b[1;34m\"Directory {} does not exist.\"\u001b[0m\u001b[1;33m.\u001b[0m\u001b[0mformat\u001b[0m\u001b[1;33m(\u001b[0m\u001b[0mcsv_folder_name\u001b[0m\u001b[1;33m)\u001b[0m\u001b[1;33m\u001b[0m\u001b[1;33m\u001b[0m\u001b[0m\n\u001b[0m\u001b[0;32m     75\u001b[0m \u001b[1;33m\u001b[0m\u001b[0m\n\u001b[0;32m     76\u001b[0m     \u001b[1;32mdef\u001b[0m \u001b[0mget_attributes\u001b[0m\u001b[1;33m(\u001b[0m\u001b[0mself\u001b[0m\u001b[1;33m)\u001b[0m\u001b[1;33m:\u001b[0m\u001b[1;33m\u001b[0m\u001b[1;33m\u001b[0m\u001b[0m\n",
      "\u001b[1;31mAssertionError\u001b[0m: Directory data\\minimal_example does not exist."
     ]
    }
   ],
   "source": [
    "network = pypsa.Network()\n",
    "csv_folder = \"data\\minimal_example\"\n",
    "\n",
    "#add buses\n",
    "network.import_from_csv_folder(csv_folder_name = csv_folder)\n",
    "\n",
    "\n",
    "\n",
    "\n",
    "#for i in range(3):\n",
    "#    network.add(\"Bus\",\"My bus {}\".format(i))\n",
    "#\n",
    "print(network.buses)\n"
   ]
  },
  {
   "cell_type": "code",
   "execution_count": 3,
   "metadata": {},
   "outputs": [],
   "source": [
    "#add three lines in a ring\n",
    "for i in range(3):\n",
    "    network.add(\"Line\",\"My line {}\".format(i),\n",
    "                bus0=\"My bus {}\".format(i),\n",
    "                bus1=\"My bus {}\".format((i+1)%3),\n",
    "                x=0.0001,\n",
    "                s_nom=60)\n",
    "    \n",
    "\n",
    "\n",
    "#add a generator at bus 0\n",
    "network.add(\"Generator\",\"My gen 0\",\n",
    "            bus=\"My bus 0\",\n",
    "            p_nom=100,\n",
    "            marginal_cost=50)\n",
    "\n",
    "#add a generator at bus 1\n",
    "network.add(\"Generator\",\"My gen 1\",\n",
    "            bus=\"My bus 1\",\n",
    "            p_nom=100,\n",
    "            marginal_cost=25)\n",
    "\n",
    "#add a load at bus 2\n",
    "network.add(\"Load\",\"My load\",\n",
    "            bus=\"My bus 2\",\n",
    "            p_set=100)"
   ]
  },
  {
   "cell_type": "code",
   "execution_count": 4,
   "metadata": {},
   "outputs": [
    {
     "name": "stdout",
     "output_type": "stream",
     "text": [
      "attribute      bus0      bus1 type       x    r    g    b  s_nom  \\\n",
      "My line 0  My bus 0  My bus 1       0.0001  0.0  0.0  0.0   60.0   \n",
      "My line 1  My bus 1  My bus 2       0.0001  0.0  0.0  0.0   60.0   \n",
      "My line 2  My bus 2  My bus 0       0.0001  0.0  0.0  0.0   60.0   \n",
      "\n",
      "attribute  s_nom_extendable  s_nom_min  ...  v_ang_min  v_ang_max  \\\n",
      "My line 0             False        0.0  ...       -inf        inf   \n",
      "My line 1             False        0.0  ...       -inf        inf   \n",
      "My line 2             False        0.0  ...       -inf        inf   \n",
      "\n",
      "attribute  sub_network  x_pu  r_pu  g_pu  b_pu  x_pu_eff r_pu_eff  s_nom_opt  \n",
      "My line 0                0.0   0.0   0.0   0.0       0.0      0.0        0.0  \n",
      "My line 1                0.0   0.0   0.0   0.0       0.0      0.0        0.0  \n",
      "My line 2                0.0   0.0   0.0   0.0       0.0      0.0        0.0  \n",
      "\n",
      "[3 rows x 26 columns]\n",
      "attribute       bus control type  p_nom  p_nom_extendable  p_nom_min  \\\n",
      "My gen 0   My bus 0      PQ       100.0             False        0.0   \n",
      "My gen 1   My bus 1      PQ       100.0             False        0.0   \n",
      "\n",
      "attribute  p_nom_max  p_min_pu  p_max_pu  p_set  ...  shut_down_cost  \\\n",
      "My gen 0         inf       0.0       1.0    0.0  ...             0.0   \n",
      "My gen 1         inf       0.0       1.0    0.0  ...             0.0   \n",
      "\n",
      "attribute  min_up_time min_down_time  up_time_before  down_time_before  \\\n",
      "My gen 0             0             0               1                 0   \n",
      "My gen 1             0             0               1                 0   \n",
      "\n",
      "attribute  ramp_limit_up  ramp_limit_down  ramp_limit_start_up  \\\n",
      "My gen 0             NaN              NaN                  1.0   \n",
      "My gen 1             NaN              NaN                  1.0   \n",
      "\n",
      "attribute  ramp_limit_shut_down  p_nom_opt  \n",
      "My gen 0                    1.0        0.0  \n",
      "My gen 1                    1.0        0.0  \n",
      "\n",
      "[2 rows x 28 columns]\n",
      "My gen 0    0.0\n",
      "My gen 1    0.0\n",
      "Name: p_set, dtype: float64\n"
     ]
    }
   ],
   "source": [
    "print(network.lines)\n",
    "print(network.generators)\n",
    "print(network.generators.p_set)"
   ]
  },
  {
   "cell_type": "code",
   "execution_count": 5,
   "metadata": {},
   "outputs": [
    {
     "name": "stderr",
     "output_type": "stream",
     "text": [
      "INFO:numexpr.utils:NumExpr defaulting to 8 threads.\n",
      "INFO:pypsa.opf:Performed preliminary steps\n",
      "INFO:pypsa.opf:Building pyomo model using `angles` formulation\n",
      "INFO:pypsa.opf:Solving model using gurobi\n"
     ]
    },
    {
     "name": "stdout",
     "output_type": "stream",
     "text": [
      "Index(['now'], dtype='object')\n"
     ]
    },
    {
     "name": "stderr",
     "output_type": "stream",
     "text": [
      "INFO:pypsa.opf:Optimization successful\n"
     ]
    },
    {
     "name": "stdout",
     "output_type": "stream",
     "text": [
      "# ==========================================================\n",
      "# = Solver Results                                         =\n",
      "# ==========================================================\n",
      "# ----------------------------------------------------------\n",
      "#   Problem Information\n",
      "# ----------------------------------------------------------\n",
      "Problem: \n",
      "- Name: x9\n",
      "  Lower bound: 3000.0\n",
      "  Upper bound: 3000.0\n",
      "  Number of objectives: 1\n",
      "  Number of constraints: 14\n",
      "  Number of variables: 9\n",
      "  Number of binary variables: 0\n",
      "  Number of integer variables: 0\n",
      "  Number of continuous variables: 9\n",
      "  Number of nonzeros: 25\n",
      "  Sense: minimize\n",
      "# ----------------------------------------------------------\n",
      "#   Solver Information\n",
      "# ----------------------------------------------------------\n",
      "Solver: \n",
      "- Status: ok\n",
      "  Return code: 0\n",
      "  Message: Model was solved to optimality (subject to tolerances), and an optimal solution is available.\n",
      "  Termination condition: optimal\n",
      "  Termination message: Model was solved to optimality (subject to tolerances), and an optimal solution is available.\n",
      "  Wall time: 0.001026153564453125\n",
      "  Error rc: 0\n",
      "  Time: 0.40384793281555176\n",
      "# ----------------------------------------------------------\n",
      "#   Solution Information\n",
      "# ----------------------------------------------------------\n",
      "Solution: \n",
      "- number of solutions: 0\n",
      "  number of solutions displayed: 0\n",
      "     My gen 0  My gen 1\n",
      "now      20.0      80.0\n",
      "     My line 0  My line 1  My line 2\n",
      "now      -20.0       60.0      -40.0\n",
      "     My line 0  My line 1  My line 2\n",
      "now   0.333333        1.0   0.666667\n",
      "     My bus 0  My bus 1  My bus 2\n",
      "now       0.0  0.114592 -0.229183\n",
      "     My bus 0  My bus 1  My bus 2\n",
      "now       1.0       1.0       1.0\n",
      "     My bus 0  My bus 1  My bus 2\n",
      "now      50.0      25.0      75.0\n"
     ]
    }
   ],
   "source": [
    "#Do a linear OPF\n",
    "\n",
    "def my_f(network,snapshots):\n",
    "    print(snapshots)\n",
    "\n",
    "network.lopf(solver_name=\"gurobi\", formulation =\"angles\", extra_functionality = my_f)\n",
    "\n",
    "#Cheap generator 1 cannot be fully dispatched because of network constraints,\n",
    "#so expensive generator 0 also has to dispatch\n",
    "print(network.generators_t.p)\n",
    "\n",
    "#network flows\n",
    "print(network.lines_t.p0)\n",
    "\n",
    "#Line 1 is congested\n",
    "print(abs(network.lines_t.p0)/network.lines.s_nom)\n",
    "\n",
    "#Power flows towards lower voltage angles\n",
    "print(network.buses_t.v_ang*180/np.pi)\n",
    "\n",
    "#In linear approximation, all voltage magnitudes are nominal, i.e. 1 per unit\n",
    "print(network.buses_t.v_mag_pu)\n",
    "\n",
    "#At bus 2 the price is set above any marginal generation costs in the model, because to dispatch to\n",
    "#it from expensive generator 0, also some dispatch from cheap generator 1 has to be substituted from generator0\n",
    "#to avoid overloading line 1.\n",
    "print(network.buses_t.marginal_price)"
   ]
  },
  {
   "cell_type": "code",
   "execution_count": null,
   "metadata": {},
   "outputs": [],
   "source": []
  }
 ],
 "metadata": {
  "kernelspec": {
   "display_name": "Python 3",
   "language": "python",
   "name": "python3"
  },
  "language_info": {
   "codemirror_mode": {
    "name": "ipython",
    "version": 3
   },
   "file_extension": ".py",
   "mimetype": "text/x-python",
   "name": "python",
   "nbconvert_exporter": "python",
   "pygments_lexer": "ipython3",
   "version": "3.7.9"
  }
 },
 "nbformat": 4,
 "nbformat_minor": 4
}
