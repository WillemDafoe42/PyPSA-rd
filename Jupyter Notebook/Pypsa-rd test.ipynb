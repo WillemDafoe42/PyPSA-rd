{
 "cells": [
  {
   "cell_type": "code",
   "execution_count": 2,
   "metadata": {},
   "outputs": [],
   "source": [
    "import pypsa\n"
   ]
  },
  {
   "cell_type": "code",
   "execution_count": 5,
   "metadata": {},
   "outputs": [],
   "source": [
    "import pypsa_rd\n"
   ]
  },
  {
   "cell_type": "code",
   "execution_count": 8,
   "metadata": {},
   "outputs": [],
   "source": [
    "network = pypsa.Network()"
   ]
  },
  {
   "cell_type": "code",
   "execution_count": 14,
   "metadata": {},
   "outputs": [],
   "source": [
    "wetwork = pypsa_rd.Network()"
   ]
  },
  {
   "cell_type": "code",
   "execution_count": 18,
   "metadata": {},
   "outputs": [
    {
     "name": "stderr",
     "output_type": "stream",
     "text": [
      "INFO:pypsa_rd.opf:Performed preliminary steps\n",
      "INFO:pypsa_rd.opf:Building pyomo model using `kirchhoff` formulation\n",
      "INFO:pypsa_rd.opf:Solving model using glpk\n",
      "WARNING:pyomo.solvers:Could not locate the 'glpsol' executable, which is required for solver 'glpk'\n"
     ]
    },
    {
     "name": "stdout",
     "output_type": "stream",
     "text": [
      "attribute  v_nom type    x    y carrier  v_mag_pu_set  v_mag_pu_min  \\\n",
      "My bus 0     1.0       0.0  0.0      AC           1.0           0.0   \n",
      "My bus 1     1.0       0.0  0.0      AC           1.0           0.0   \n",
      "My bus 2     1.0       0.0  0.0      AC           1.0           0.0   \n",
      "\n",
      "attribute  v_mag_pu_max control sub_network  \n",
      "My bus 0            inf      PQ              \n",
      "My bus 1            inf      PQ              \n",
      "My bus 2            inf      PQ              \n",
      "attribute      bus0      bus1 type       x    r    g    b  s_nom  \\\n",
      "My line 0  My bus 0  My bus 1       0.0001  0.0  0.0  0.0   60.0   \n",
      "My line 1  My bus 1  My bus 2       0.0001  0.0  0.0  0.0   60.0   \n",
      "My line 2  My bus 2  My bus 0       0.0001  0.0  0.0  0.0   60.0   \n",
      "\n",
      "attribute  s_nom_extendable  s_nom_min  ...  v_ang_min  v_ang_max  \\\n",
      "My line 0             False        0.0  ...       -inf        inf   \n",
      "My line 1             False        0.0  ...       -inf        inf   \n",
      "My line 2             False        0.0  ...       -inf        inf   \n",
      "\n",
      "attribute  sub_network  x_pu  r_pu  g_pu  b_pu  x_pu_eff r_pu_eff  s_nom_opt  \n",
      "My line 0                0.0   0.0   0.0   0.0       0.0      0.0        0.0  \n",
      "My line 1                0.0   0.0   0.0   0.0       0.0      0.0        0.0  \n",
      "My line 2                0.0   0.0   0.0   0.0       0.0      0.0        0.0  \n",
      "\n",
      "[3 rows x 26 columns]\n",
      "attribute       bus control type  p_nom  p_nom_extendable  p_nom_min  \\\n",
      "My gen 0   My bus 0      PQ       100.0             False        0.0   \n",
      "My gen 1   My bus 1      PQ       100.0             False        0.0   \n",
      "\n",
      "attribute  p_nom_max  p_min_pu  p_max_pu  p_set  ...  shut_down_cost  \\\n",
      "My gen 0         inf       0.0       1.0    0.0  ...             0.0   \n",
      "My gen 1         inf       0.0       1.0    0.0  ...             0.0   \n",
      "\n",
      "attribute  min_up_time min_down_time  up_time_before  down_time_before  \\\n",
      "My gen 0             0             0               1                 0   \n",
      "My gen 1             0             0               1                 0   \n",
      "\n",
      "attribute  ramp_limit_up  ramp_limit_down  ramp_limit_start_up  \\\n",
      "My gen 0             NaN              NaN                  1.0   \n",
      "My gen 1             NaN              NaN                  1.0   \n",
      "\n",
      "attribute  ramp_limit_shut_down  p_nom_opt  \n",
      "My gen 0                    1.0        0.0  \n",
      "My gen 1                    1.0        0.0  \n",
      "\n",
      "[2 rows x 28 columns]\n",
      "My gen 0    0.0\n",
      "My gen 1    0.0\n",
      "Name: p_set, dtype: float64\n",
      "attribute       bus type  p_set  q_set  sign\n",
      "My load    My bus 2       100.0    0.0  -1.0\n",
      "My load    100.0\n",
      "Name: p_set, dtype: float64\n",
      "Index(['now'], dtype='object')\n",
      "WARNING: Could not locate the 'glpsol' executable, which is required for\n",
      "    solver 'glpk'\n"
     ]
    },
    {
     "ename": "ApplicationError",
     "evalue": "No executable found for solver 'glpk'",
     "output_type": "error",
     "traceback": [
      "\u001b[1;31m---------------------------------------------------------------------------\u001b[0m",
      "\u001b[1;31mApplicationError\u001b[0m                          Traceback (most recent call last)",
      "\u001b[1;32m<ipython-input-18-422d0431667f>\u001b[0m in \u001b[0;36m<module>\u001b[1;34m\u001b[0m\n\u001b[0;32m     54\u001b[0m \u001b[1;33m\u001b[0m\u001b[0m\n\u001b[0;32m     55\u001b[0m \u001b[1;33m\u001b[0m\u001b[0m\n\u001b[1;32m---> 56\u001b[1;33m \u001b[0mnetwork\u001b[0m\u001b[1;33m.\u001b[0m\u001b[0mlopf\u001b[0m\u001b[1;33m(\u001b[0m\u001b[0mextra_functionality\u001b[0m\u001b[1;33m=\u001b[0m\u001b[0mmy_f\u001b[0m\u001b[1;33m)\u001b[0m\u001b[1;33m\u001b[0m\u001b[1;33m\u001b[0m\u001b[0m\n\u001b[0m\u001b[0;32m     57\u001b[0m \u001b[1;33m\u001b[0m\u001b[0m\n\u001b[0;32m     58\u001b[0m \u001b[1;31m#Cheap generator 1 cannot be fully dispatched because of network constraints,\u001b[0m\u001b[1;33m\u001b[0m\u001b[1;33m\u001b[0m\u001b[1;33m\u001b[0m\u001b[0m\n",
      "\u001b[1;32m~\\.conda\\envs\\pypsa-eur\\lib\\site-packages\\pypsa_rd\\components.py\u001b[0m in \u001b[0;36mlopf\u001b[1;34m(self, snapshots, pyomo, solver_name, solver_options, solver_logfile, formulation, mode, keep_files, extra_functionality, **kwargs)\u001b[0m\n\u001b[0;32m    508\u001b[0m \u001b[1;33m\u001b[0m\u001b[0m\n\u001b[0;32m    509\u001b[0m         \u001b[1;32mif\u001b[0m \u001b[0mpyomo\u001b[0m\u001b[1;33m:\u001b[0m\u001b[1;33m\u001b[0m\u001b[1;33m\u001b[0m\u001b[0m\n\u001b[1;32m--> 510\u001b[1;33m             \u001b[1;32mreturn\u001b[0m \u001b[0mnetwork_lopf\u001b[0m\u001b[1;33m(\u001b[0m\u001b[0mself\u001b[0m\u001b[1;33m,\u001b[0m \u001b[1;33m**\u001b[0m\u001b[0margs\u001b[0m\u001b[1;33m)\u001b[0m\u001b[1;33m\u001b[0m\u001b[1;33m\u001b[0m\u001b[0m\n\u001b[0m\u001b[0;32m    511\u001b[0m         \u001b[1;32melse\u001b[0m\u001b[1;33m:\u001b[0m\u001b[1;33m\u001b[0m\u001b[1;33m\u001b[0m\u001b[0m\n\u001b[0;32m    512\u001b[0m             \u001b[1;32mreturn\u001b[0m \u001b[0mnetwork_lopf_lowmem\u001b[0m\u001b[1;33m(\u001b[0m\u001b[0mself\u001b[0m\u001b[1;33m,\u001b[0m \u001b[1;33m**\u001b[0m\u001b[0margs\u001b[0m\u001b[1;33m)\u001b[0m\u001b[1;33m\u001b[0m\u001b[1;33m\u001b[0m\u001b[0m\n",
      "\u001b[1;32m~\\.conda\\envs\\pypsa-eur\\lib\\site-packages\\pypsa_rd\\opf.py\u001b[0m in \u001b[0;36mnetwork_lopf\u001b[1;34m(network, snapshots, solver_name, solver_io, skip_pre, extra_functionality, solver_logfile, solver_options, keep_files, formulation, mode, ptdf_tolerance, free_memory, extra_postprocessing)\u001b[0m\n\u001b[0;32m   1680\u001b[0m                               \u001b[0msolver_logfile\u001b[0m\u001b[1;33m=\u001b[0m\u001b[0msolver_logfile\u001b[0m\u001b[1;33m,\u001b[0m \u001b[0msolver_options\u001b[0m\u001b[1;33m=\u001b[0m\u001b[0msolver_options\u001b[0m\u001b[1;33m,\u001b[0m\u001b[1;33m\u001b[0m\u001b[1;33m\u001b[0m\u001b[0m\n\u001b[0;32m   1681\u001b[0m                               \u001b[0mkeep_files\u001b[0m\u001b[1;33m=\u001b[0m\u001b[0mkeep_files\u001b[0m\u001b[1;33m,\u001b[0m \u001b[0mfree_memory\u001b[0m\u001b[1;33m=\u001b[0m\u001b[0mfree_memory\u001b[0m\u001b[1;33m,\u001b[0m\u001b[1;33m\u001b[0m\u001b[1;33m\u001b[0m\u001b[0m\n\u001b[1;32m-> 1682\u001b[1;33m                               extra_postprocessing=extra_postprocessing)\n\u001b[0m",
      "\u001b[1;32m~\\.conda\\envs\\pypsa-eur\\lib\\site-packages\\pypsa_rd\\opf.py\u001b[0m in \u001b[0;36mnetwork_lopf_solve\u001b[1;34m(network, snapshots, formulation, solver_options, solver_logfile, keep_files, free_memory, extra_postprocessing)\u001b[0m\n\u001b[0;32m   1586\u001b[0m             \u001b[0mnetwork\u001b[0m\u001b[1;33m.\u001b[0m\u001b[0mresults\u001b[0m \u001b[1;33m=\u001b[0m \u001b[0mnetwork\u001b[0m\u001b[1;33m.\u001b[0m\u001b[0mopt\u001b[0m\u001b[1;33m.\u001b[0m\u001b[0msolve\u001b[0m\u001b[1;33m(\u001b[0m\u001b[1;33m*\u001b[0m\u001b[0margs\u001b[0m\u001b[1;33m,\u001b[0m \u001b[0msuffixes\u001b[0m\u001b[1;33m=\u001b[0m\u001b[1;33m[\u001b[0m\u001b[1;34m\"dual\"\u001b[0m\u001b[1;33m]\u001b[0m\u001b[1;33m,\u001b[0m \u001b[0mkeepfiles\u001b[0m\u001b[1;33m=\u001b[0m\u001b[0mkeep_files\u001b[0m\u001b[1;33m,\u001b[0m \u001b[0mlogfile\u001b[0m\u001b[1;33m=\u001b[0m\u001b[0msolver_logfile\u001b[0m\u001b[1;33m,\u001b[0m \u001b[0moptions\u001b[0m\u001b[1;33m=\u001b[0m\u001b[0msolver_options\u001b[0m\u001b[1;33m)\u001b[0m\u001b[1;33m\u001b[0m\u001b[1;33m\u001b[0m\u001b[0m\n\u001b[0;32m   1587\u001b[0m     \u001b[1;32melse\u001b[0m\u001b[1;33m:\u001b[0m\u001b[1;33m\u001b[0m\u001b[1;33m\u001b[0m\u001b[0m\n\u001b[1;32m-> 1588\u001b[1;33m         \u001b[0mnetwork\u001b[0m\u001b[1;33m.\u001b[0m\u001b[0mresults\u001b[0m \u001b[1;33m=\u001b[0m \u001b[0mnetwork\u001b[0m\u001b[1;33m.\u001b[0m\u001b[0mopt\u001b[0m\u001b[1;33m.\u001b[0m\u001b[0msolve\u001b[0m\u001b[1;33m(\u001b[0m\u001b[1;33m*\u001b[0m\u001b[0margs\u001b[0m\u001b[1;33m,\u001b[0m \u001b[0msuffixes\u001b[0m\u001b[1;33m=\u001b[0m\u001b[1;33m[\u001b[0m\u001b[1;34m\"dual\"\u001b[0m\u001b[1;33m]\u001b[0m\u001b[1;33m,\u001b[0m \u001b[0mkeepfiles\u001b[0m\u001b[1;33m=\u001b[0m\u001b[0mkeep_files\u001b[0m\u001b[1;33m,\u001b[0m \u001b[0mlogfile\u001b[0m\u001b[1;33m=\u001b[0m\u001b[0msolver_logfile\u001b[0m\u001b[1;33m,\u001b[0m \u001b[0moptions\u001b[0m\u001b[1;33m=\u001b[0m\u001b[0msolver_options\u001b[0m\u001b[1;33m)\u001b[0m\u001b[1;33m\u001b[0m\u001b[1;33m\u001b[0m\u001b[0m\n\u001b[0m\u001b[0;32m   1589\u001b[0m \u001b[1;33m\u001b[0m\u001b[0m\n\u001b[0;32m   1590\u001b[0m     \u001b[1;32mif\u001b[0m \u001b[0mlogger\u001b[0m\u001b[1;33m.\u001b[0m\u001b[0misEnabledFor\u001b[0m\u001b[1;33m(\u001b[0m\u001b[0mlogging\u001b[0m\u001b[1;33m.\u001b[0m\u001b[0mINFO\u001b[0m\u001b[1;33m)\u001b[0m\u001b[1;33m:\u001b[0m\u001b[1;33m\u001b[0m\u001b[1;33m\u001b[0m\u001b[0m\n",
      "\u001b[1;32m~\\.conda\\envs\\pypsa-eur\\lib\\site-packages\\pyomo\\opt\\base\\solvers.py\u001b[0m in \u001b[0;36msolve\u001b[1;34m(self, *args, **kwds)\u001b[0m\n\u001b[0;32m    514\u001b[0m         \u001b[1;34m\"\"\" Solve the problem \"\"\"\u001b[0m\u001b[1;33m\u001b[0m\u001b[1;33m\u001b[0m\u001b[0m\n\u001b[0;32m    515\u001b[0m \u001b[1;33m\u001b[0m\u001b[0m\n\u001b[1;32m--> 516\u001b[1;33m         \u001b[0mself\u001b[0m\u001b[1;33m.\u001b[0m\u001b[0mavailable\u001b[0m\u001b[1;33m(\u001b[0m\u001b[0mexception_flag\u001b[0m\u001b[1;33m=\u001b[0m\u001b[1;32mTrue\u001b[0m\u001b[1;33m)\u001b[0m\u001b[1;33m\u001b[0m\u001b[1;33m\u001b[0m\u001b[0m\n\u001b[0m\u001b[0;32m    517\u001b[0m         \u001b[1;31m#\u001b[0m\u001b[1;33m\u001b[0m\u001b[1;33m\u001b[0m\u001b[1;33m\u001b[0m\u001b[0m\n\u001b[0;32m    518\u001b[0m         \u001b[1;31m# If the inputs are models, then validate that they have been\u001b[0m\u001b[1;33m\u001b[0m\u001b[1;33m\u001b[0m\u001b[1;33m\u001b[0m\u001b[0m\n",
      "\u001b[1;32m~\\.conda\\envs\\pypsa-eur\\lib\\site-packages\\pyomo\\opt\\solver\\shellcmd.py\u001b[0m in \u001b[0;36mavailable\u001b[1;34m(self, exception_flag)\u001b[0m\n\u001b[0;32m    116\u001b[0m             \u001b[1;32mif\u001b[0m \u001b[0mexception_flag\u001b[0m\u001b[1;33m:\u001b[0m\u001b[1;33m\u001b[0m\u001b[1;33m\u001b[0m\u001b[0m\n\u001b[0;32m    117\u001b[0m                 \u001b[0mmsg\u001b[0m \u001b[1;33m=\u001b[0m \u001b[1;34m\"No executable found for solver '%s'\"\u001b[0m\u001b[1;33m\u001b[0m\u001b[1;33m\u001b[0m\u001b[0m\n\u001b[1;32m--> 118\u001b[1;33m                 \u001b[1;32mraise\u001b[0m \u001b[0mApplicationError\u001b[0m\u001b[1;33m(\u001b[0m\u001b[0mmsg\u001b[0m \u001b[1;33m%\u001b[0m \u001b[0mself\u001b[0m\u001b[1;33m.\u001b[0m\u001b[0mname\u001b[0m\u001b[1;33m)\u001b[0m\u001b[1;33m\u001b[0m\u001b[1;33m\u001b[0m\u001b[0m\n\u001b[0m\u001b[0;32m    119\u001b[0m             \u001b[1;32mreturn\u001b[0m \u001b[1;32mFalse\u001b[0m\u001b[1;33m\u001b[0m\u001b[1;33m\u001b[0m\u001b[0m\n\u001b[0;32m    120\u001b[0m         \u001b[1;32mreturn\u001b[0m \u001b[1;32mTrue\u001b[0m\u001b[1;33m\u001b[0m\u001b[1;33m\u001b[0m\u001b[0m\n",
      "\u001b[1;31mApplicationError\u001b[0m: No executable found for solver 'glpk'"
     ]
    }
   ],
   "source": [
    "## Minimal 3-node example of PyPSA linear optimal power flow\n",
    "#\n",
    "#Available as a Jupyter notebook at <http://www.pypsa.org/examples/minimal_example_lopf.ipynb>.\n",
    "\n",
    "import numpy as np\n",
    "\n",
    "network = pypsa_rd.Network()\n",
    "\n",
    "#add three buses\n",
    "for i in range(3):\n",
    "    network.add(\"Bus\",\"My bus {}\".format(i))\n",
    "\n",
    "print(network.buses)\n",
    "\n",
    "#add three lines in a ring\n",
    "for i in range(3):\n",
    "    network.add(\"Line\",\"My line {}\".format(i),\n",
    "                bus0=\"My bus {}\".format(i),\n",
    "                bus1=\"My bus {}\".format((i+1)%3),\n",
    "                x=0.0001,\n",
    "                s_nom=60)\n",
    "\n",
    "print(network.lines)\n",
    "\n",
    "#add a generator at bus 0\n",
    "network.add(\"Generator\",\"My gen 0\",\n",
    "            bus=\"My bus 0\",\n",
    "            p_nom=100,\n",
    "            marginal_cost=50)\n",
    "\n",
    "#add a generator at bus 1\n",
    "network.add(\"Generator\",\"My gen 1\",\n",
    "            bus=\"My bus 1\",\n",
    "            p_nom=100,\n",
    "            marginal_cost=25)\n",
    "\n",
    "print(network.generators)\n",
    "\n",
    "print(network.generators.p_set)\n",
    "\n",
    "#add a load at bus 2\n",
    "network.add(\"Load\",\"My load\",\n",
    "            bus=\"My bus 2\",\n",
    "            p_set=100)\n",
    "\n",
    "print(network.loads)\n",
    "\n",
    "print(network.loads.p_set)\n",
    "\n",
    "#Do a linear OPF\n",
    "\n",
    "def my_f(network,snapshots):\n",
    "    print(snapshots)\n",
    "\n",
    "\n",
    "network.lopf(extra_functionality=my_f)\n",
    "\n",
    "#Cheap generator 1 cannot be fully dispatched because of network constraints,\n",
    "#so expensive generator 0 also has to dispatch\n",
    "print(network.generators_t.p)\n",
    "\n",
    "#network flows\n",
    "print(network.lines_t.p0)\n",
    "\n",
    "#Line 1 is congested\n",
    "print(abs(network.lines_t.p0)/network.lines.s_nom)\n",
    "\n",
    "#Power flows towards lower voltage angles\n",
    "print(network.buses_t.v_ang*180/np.pi)\n",
    "\n",
    "#In linear approximation, all voltage magnitudes are nominal, i.e. 1 per unit\n",
    "print(network.buses_t.v_mag_pu)\n",
    "\n",
    "#At bus 2 the price is set above any marginal generation costs in the model, because to dispatch to\n",
    "#it from expensive generator 0, also some dispatch from cheap generator 1 has to be substituted from generator0\n",
    "#to avoid overloading line 1.\n",
    "print(network.buses_t.marginal_price)\n",
    "\n",
    "\n"
   ]
  }
 ],
 "metadata": {
  "kernelspec": {
   "display_name": "Python 3",
   "language": "python",
   "name": "python3"
  },
  "language_info": {
   "codemirror_mode": {
    "name": "ipython",
    "version": 3
   },
   "file_extension": ".py",
   "mimetype": "text/x-python",
   "name": "python",
   "nbconvert_exporter": "python",
   "pygments_lexer": "ipython3",
   "version": "3.7.9"
  }
 },
 "nbformat": 4,
 "nbformat_minor": 4
}
